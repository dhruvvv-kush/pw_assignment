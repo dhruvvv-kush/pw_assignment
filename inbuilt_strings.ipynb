{
  "nbformat": 4,
  "nbformat_minor": 0,
  "metadata": {
    "colab": {
      "provenance": [],
      "authorship_tag": "ABX9TyN/GGvdxj9IJPqSmbt5Uksd",
      "include_colab_link": true
    },
    "kernelspec": {
      "name": "python3",
      "display_name": "Python 3"
    },
    "language_info": {
      "name": "python"
    }
  },
  "cells": [
    {
      "cell_type": "markdown",
      "metadata": {
        "id": "view-in-github",
        "colab_type": "text"
      },
      "source": [
        "<a href=\"https://colab.research.google.com/github/dhruvvv-kush/pw_assignment/blob/main/inbuilt_strings.ipynb\" target=\"_parent\"><img src=\"https://colab.research.google.com/assets/colab-badge.svg\" alt=\"Open In Colab\"/></a>"
      ]
    },
    {
      "cell_type": "markdown",
      "source": [
        "#Q1\n",
        "\n",
        "len() function is used in python to calculate number of elements/ building block of the data structure it can be used on list, set, dictionary, tuple, strings etc.\n",
        "\n",
        "Usage in string:\n",
        "\n",
        "#phone_no is a string\n",
        "if len(phone_no) == 10: print(\"Correct Phone Number\")\n",
        "\n",
        "else: print(\"Not Correct Phone Number\")\n",
        "\n",
        "Another Example:\n",
        "\n",
        "#name is a string\n",
        "if len(name) > 20: print(\"More than 20 characters not allowed\")\n",
        "\n",
        "else: print(\"Nice Name\")"
      ],
      "metadata": {
        "id": "pljNKv-4NxEq"
      }
    },
    {
      "cell_type": "markdown",
      "source": [
        "#Q2"
      ],
      "metadata": {
        "id": "iYbAi6P8Ojj8"
      }
    },
    {
      "cell_type": "code",
      "source": [
        "#Strings can be concatenated using + operator between two strings.\n",
        "\n",
        "\n",
        "first_name = \"DHRUV \"\n",
        "last_name = \"KUSHWAHA\"\n",
        "\n",
        "full_name = first_name + last_name\n",
        "\n",
        "print(full_name)"
      ],
      "metadata": {
        "colab": {
          "base_uri": "https://localhost:8080/"
        },
        "id": "8TVkgT9tOpf-",
        "outputId": "a65a80cb-5b0f-4fa6-823a-18ca4adc4ead"
      },
      "execution_count": 5,
      "outputs": [
        {
          "output_type": "stream",
          "name": "stdout",
          "text": [
            "DHRUV KUSHWAHA\n"
          ]
        }
      ]
    },
    {
      "cell_type": "markdown",
      "source": [
        "#Q3"
      ],
      "metadata": {
        "id": "csquSHqFOwag"
      }
    },
    {
      "cell_type": "code",
      "source": [
        "#String slicing is used using indexing and can be really use to get a portion of the string it can be\n",
        "#implemented in python using string[lower_index:upper_index] this way\n",
        "\n",
        "lower_index = 2\n",
        "upper_index = 9\n",
        "\n",
        "string = \"DhrUv KUSHwaha\"\n",
        "\n",
        "print(string[lower_index:upper_index])"
      ],
      "metadata": {
        "colab": {
          "base_uri": "https://localhost:8080/"
        },
        "id": "j_iivwLGO6TC",
        "outputId": "0a15ac51-d6ef-4db8-bc07-e8ccdd6a2425"
      },
      "execution_count": 7,
      "outputs": [
        {
          "output_type": "stream",
          "name": "stdout",
          "text": [
            "rUv KUS\n"
          ]
        }
      ]
    },
    {
      "cell_type": "markdown",
      "source": [
        "#Q4"
      ],
      "metadata": {
        "id": "-nK8z7GePPbY"
      }
    },
    {
      "cell_type": "code",
      "source": [
        "# Case can be changes as upper case lower case title case,etc\n",
        "\n",
        "string = \"hello DHRUV how are you hopE you are great\"\n",
        "\n",
        "#Lower Case\n",
        "print(string.lower())\n",
        "\n",
        "#upper Case\n",
        "print(string.upper())\n",
        "\n",
        "#title case\n",
        "print(string.title())"
      ],
      "metadata": {
        "colab": {
          "base_uri": "https://localhost:8080/"
        },
        "id": "rLBnFvkrPR-A",
        "outputId": "d674f36a-1a85-4f5e-883a-f6ea836a4568"
      },
      "execution_count": 8,
      "outputs": [
        {
          "output_type": "stream",
          "name": "stdout",
          "text": [
            "hello dhruv how are you hope you are great\n",
            "HELLO DHRUV HOW ARE YOU HOPE YOU ARE GREAT\n",
            "Hello Dhruv How Are You Hope You Are Great\n"
          ]
        }
      ]
    },
    {
      "cell_type": "markdown",
      "source": [
        "#Q5"
      ],
      "metadata": {
        "id": "jaBA1eOxPeCJ"
      }
    },
    {
      "cell_type": "code",
      "source": [
        "#Split can be used to divide the string into smaller parts using some character default \" \" returns list\n",
        "\n",
        "string = \"hello Dhruv how are you hopE you are great\"\n",
        "\n",
        "splitted_string_by_space = string.split()\n",
        "\n",
        "splitted_string_by_custom = string.split(\"h\")\n",
        "\n",
        "print(splitted_string_by_space)\n",
        "print(splitted_string_by_custom)"
      ],
      "metadata": {
        "colab": {
          "base_uri": "https://localhost:8080/"
        },
        "id": "2Vf0SU9sPjq_",
        "outputId": "617d488d-b9f5-4ee5-dde1-05319f810cd7"
      },
      "execution_count": 9,
      "outputs": [
        {
          "output_type": "stream",
          "name": "stdout",
          "text": [
            "['hello', 'Dhruv', 'how', 'are', 'you', 'hopE', 'you', 'are', 'great']\n",
            "['', 'ello D', 'ruv ', 'ow are you ', 'opE you are great']\n"
          ]
        }
      ]
    }
  ]
}