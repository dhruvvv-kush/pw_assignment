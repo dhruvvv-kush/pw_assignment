{
  "nbformat": 4,
  "nbformat_minor": 0,
  "metadata": {
    "colab": {
      "provenance": [],
      "authorship_tag": "ABX9TyOc2OAYWOVUShM9xmE9W6wq",
      "include_colab_link": true
    },
    "kernelspec": {
      "name": "python3",
      "display_name": "Python 3"
    },
    "language_info": {
      "name": "python"
    }
  },
  "cells": [
    {
      "cell_type": "markdown",
      "metadata": {
        "id": "view-in-github",
        "colab_type": "text"
      },
      "source": [
        "<a href=\"https://colab.research.google.com/github/dhruvvv-kush/pw_assignment/blob/main/pw_assignment1.ipynb\" target=\"_parent\"><img src=\"https://colab.research.google.com/assets/colab-badge.svg\" alt=\"Open In Colab\"/></a>"
      ]
    },
    {
      "cell_type": "code",
      "execution_count": null,
      "metadata": {
        "colab": {
          "base_uri": "https://localhost:8080/"
        },
        "id": "W8vNjcyIEZDR",
        "outputId": "ef94dfec-45b1-45d7-9781-2fcb98143a28"
      },
      "outputs": [
        {
          "output_type": "stream",
          "name": "stdout",
          "text": [
            "<class 'int'>\n",
            "<class 'float'>\n",
            "8.0\n"
          ]
        }
      ],
      "source": [
        "#Convert an integer to a floating-point number.\n",
        "a=int(8)\n",
        "print(type(a))\n",
        "a=float(a)\n",
        "print(type(a))\n",
        "print(a)"
      ]
    },
    {
      "cell_type": "code",
      "source": [
        "#Convert a float to an integer.\n",
        "a=float(8.52)\n",
        "print(type(a))\n",
        "a=int(a)\n",
        "print(type(a))\n",
        "print(a)"
      ],
      "metadata": {
        "colab": {
          "base_uri": "https://localhost:8080/"
        },
        "id": "f55Ro7gyFQEJ",
        "outputId": "69162d3c-02db-4dd9-daff-a7933251ea68"
      },
      "execution_count": null,
      "outputs": [
        {
          "output_type": "stream",
          "name": "stdout",
          "text": [
            "<class 'float'>\n",
            "<class 'int'>\n",
            "8\n"
          ]
        }
      ]
    },
    {
      "cell_type": "code",
      "source": [
        "#Convert an integer to a string.\n",
        "a=int(8)\n",
        "print(type(a))\n",
        "a=str(a)\n",
        "print(type(a))\n",
        "print(a)"
      ],
      "metadata": {
        "colab": {
          "base_uri": "https://localhost:8080/"
        },
        "id": "tkKiiHLgFxYq",
        "outputId": "ad7f7baf-09d1-49dc-f321-182bf3901de5"
      },
      "execution_count": null,
      "outputs": [
        {
          "output_type": "stream",
          "name": "stdout",
          "text": [
            "<class 'int'>\n",
            "<class 'str'>\n",
            "8\n"
          ]
        }
      ]
    },
    {
      "cell_type": "code",
      "source": [
        "#Convert a list to a tuple.\n",
        "new_list=[2,5,8,10,'my' ,'your',8.25]\n",
        "print(type(new_list))\n",
        "new_list=tuple(new_list)\n",
        "print(type(new_list))\n",
        "print(new_list)"
      ],
      "metadata": {
        "colab": {
          "base_uri": "https://localhost:8080/"
        },
        "id": "2ylmrGffGPy2",
        "outputId": "8060b134-12d3-4acb-eb67-1e24d1745fdc"
      },
      "execution_count": null,
      "outputs": [
        {
          "output_type": "stream",
          "name": "stdout",
          "text": [
            "<class 'list'>\n",
            "<class 'tuple'>\n",
            "(2, 5, 8, 10, 'my', 'your', 8.25)\n"
          ]
        }
      ]
    },
    {
      "cell_type": "code",
      "source": [
        "#Convert a tuple to a list.\n",
        "new_tuple=(2,5,8,10,'my' ,'your',8.25)\n",
        "print(type(new_tuple))\n",
        "new_tuple=list(new_tuple)\n",
        "print(type(new_tuple))\n",
        "print(new_tuple)\n"
      ],
      "metadata": {
        "colab": {
          "base_uri": "https://localhost:8080/"
        },
        "id": "ZJrLmiWiGzEA",
        "outputId": "3bfe2d85-dec6-41e5-e56d-608c58de75e2"
      },
      "execution_count": null,
      "outputs": [
        {
          "output_type": "stream",
          "name": "stdout",
          "text": [
            "<class 'tuple'>\n",
            "<class 'list'>\n",
            "[2, 5, 8, 10, 'my', 'your', 8.25]\n"
          ]
        }
      ]
    },
    {
      "cell_type": "code",
      "source": [
        "#Convert a decimal number to binary.\n",
        "decimal_number = int(10)\n",
        "binary_number = bin(decimal_number)[2:]\n",
        "print(\"The binary representation of \" + str(decimal_number) + \" is \" + binary_number)\n"
      ],
      "metadata": {
        "colab": {
          "base_uri": "https://localhost:8080/"
        },
        "id": "vphs1ihbG-bj",
        "outputId": "c262d9d8-122c-4c7a-a4f4-1f81600b8a6b"
      },
      "execution_count": null,
      "outputs": [
        {
          "output_type": "stream",
          "name": "stdout",
          "text": [
            "The binary representation of 10 is 0b1010\n"
          ]
        }
      ]
    },
    {
      "cell_type": "code",
      "source": [
        "#Convert a non-zero number to boolean.\n",
        "a=int(8)\n",
        "print(type(a))\n",
        "a=bool(a)\n",
        "print(type(a))\n",
        "print(a)"
      ],
      "metadata": {
        "id": "cdEIv8Y-JU_R",
        "outputId": "68b669ec-0974-4224-d299-9d49c1b201b6",
        "colab": {
          "base_uri": "https://localhost:8080/"
        }
      },
      "execution_count": null,
      "outputs": [
        {
          "output_type": "stream",
          "name": "stdout",
          "text": [
            "<class 'int'>\n",
            "<class 'bool'>\n",
            "True\n"
          ]
        }
      ]
    }
  ]
}