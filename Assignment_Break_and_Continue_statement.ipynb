{
  "nbformat": 4,
  "nbformat_minor": 0,
  "metadata": {
    "colab": {
      "provenance": [],
      "authorship_tag": "ABX9TyNzNYseAwrRm8a7/5I3cpo5",
      "include_colab_link": true
    },
    "kernelspec": {
      "name": "python3",
      "display_name": "Python 3"
    },
    "language_info": {
      "name": "python"
    }
  },
  "cells": [
    {
      "cell_type": "markdown",
      "metadata": {
        "id": "view-in-github",
        "colab_type": "text"
      },
      "source": [
        "<a href=\"https://colab.research.google.com/github/dhruvvv-kush/pw_assignment/blob/main/Assignment_Break_and_Continue_statement.ipynb\" target=\"_parent\"><img src=\"https://colab.research.google.com/assets/colab-badge.svg\" alt=\"Open In Colab\"/></a>"
      ]
    },
    {
      "cell_type": "markdown",
      "source": [
        "NAME-Dhruv Kushwaha\n",
        "\n",
        "REGEMAIL- dhruvkushwaha90@gmail.com\n",
        "\n",
        "COURSENAME-DATA SCIENCE WITH GENERATIVE AI\n",
        "\n",
        "ASSIGNMENT NAME- break and continue statement\n",
        "\n",
        "SUBMISSION DATE-1 dec 2024"
      ],
      "metadata": {
        "id": "3YuHaFGuy1cH"
      }
    },
    {
      "cell_type": "markdown",
      "source": [
        "# Write a program to print numbers from 1 to 10, but stop if the number is 5.\n"
      ],
      "metadata": {
        "id": "wyIYFvTwvjTl"
      }
    },
    {
      "cell_type": "code",
      "source": [
        "for i in range(1, 11):\n",
        "  if i == 5:\n",
        "    break\n",
        "  print(i)"
      ],
      "metadata": {
        "colab": {
          "base_uri": "https://localhost:8080/"
        },
        "id": "Crfyqgeevv2r",
        "outputId": "8b394645-deef-4496-dc85-8776ac2106f6"
      },
      "execution_count": 1,
      "outputs": [
        {
          "output_type": "stream",
          "name": "stdout",
          "text": [
            "1\n",
            "2\n",
            "3\n",
            "4\n"
          ]
        }
      ]
    },
    {
      "cell_type": "markdown",
      "source": [
        "#  Write a program to iterate through a list and stop when encountering a specific element"
      ],
      "metadata": {
        "id": "OWse8IFDv-c4"
      }
    },
    {
      "cell_type": "code",
      "execution_count": 3,
      "metadata": {
        "colab": {
          "base_uri": "https://localhost:8080/"
        },
        "id": "X7QQcskLu9K2",
        "outputId": "eab5dc4d-86e4-4dd3-f96b-028b0e740044"
      },
      "outputs": [
        {
          "output_type": "stream",
          "name": "stdout",
          "text": [
            "1\n",
            "2\n",
            "3\n",
            "4\n",
            "5\n",
            "6\n",
            "7\n"
          ]
        }
      ],
      "source": [
        "my_list = [1, 2, 3, 4, 5, 6, 7, 8, 9, 10]\n",
        "stop_element = 8\n",
        "\n",
        "for element in my_list:\n",
        "  if element == stop_element:\n",
        "    break\n",
        "  print(element)"
      ]
    },
    {
      "cell_type": "markdown",
      "source": [
        "#  Write a program to skip printing even numbers from 1 to 10"
      ],
      "metadata": {
        "id": "uYPTIC3iwQ1_"
      }
    },
    {
      "cell_type": "code",
      "source": [
        "for i in range(1, 11):\n",
        "  if i % 2 != 0:\n",
        "    print(i)"
      ],
      "metadata": {
        "colab": {
          "base_uri": "https://localhost:8080/"
        },
        "id": "pXkOrHjKvfAP",
        "outputId": "a7a9f28d-6bf9-47f1-aca5-456eda1956e7"
      },
      "execution_count": 4,
      "outputs": [
        {
          "output_type": "stream",
          "name": "stdout",
          "text": [
            "1\n",
            "3\n",
            "5\n",
            "7\n",
            "9\n"
          ]
        }
      ]
    },
    {
      "cell_type": "markdown",
      "source": [
        "# Write a program to print numbers from 0 to 9 using range()."
      ],
      "metadata": {
        "id": "OviO8Os7wf9u"
      }
    },
    {
      "cell_type": "code",
      "source": [
        "for i in range(10):\n",
        "  print(i)"
      ],
      "metadata": {
        "colab": {
          "base_uri": "https://localhost:8080/"
        },
        "id": "mGu_IsHZwnKl",
        "outputId": "c5fe9c1c-3526-4581-a21f-f87a026f666f"
      },
      "execution_count": 5,
      "outputs": [
        {
          "output_type": "stream",
          "name": "stdout",
          "text": [
            "0\n",
            "1\n",
            "2\n",
            "3\n",
            "4\n",
            "5\n",
            "6\n",
            "7\n",
            "8\n",
            "9\n"
          ]
        }
      ]
    },
    {
      "cell_type": "markdown",
      "source": [
        "#Write a program to print multiplication tables from 1 to 5, but stop after the first table is printed for each number."
      ],
      "metadata": {
        "id": "2CmNN9bUw8yE"
      }
    },
    {
      "cell_type": "code",
      "source": [
        "for number in range(1, 6):\n",
        "    print(f\"Multiplication Table for {number}:\")\n",
        "    for multiplier in range(1, 11):\n",
        "        print(f\"{number} x {multiplier} = {number * multiplier}\")\n",
        "        if multiplier == 1:\n",
        "            break\n",
        "    print()\n"
      ],
      "metadata": {
        "colab": {
          "base_uri": "https://localhost:8080/"
        },
        "id": "HigZfQATxC5y",
        "outputId": "aec31cfc-8770-4820-fef5-4ab8f1caf817"
      },
      "execution_count": 7,
      "outputs": [
        {
          "output_type": "stream",
          "name": "stdout",
          "text": [
            "Multiplication Table for 1:\n",
            "1 x 1 = 1\n",
            "\n",
            "Multiplication Table for 2:\n",
            "2 x 1 = 2\n",
            "\n",
            "Multiplication Table for 3:\n",
            "3 x 1 = 3\n",
            "\n",
            "Multiplication Table for 4:\n",
            "4 x 1 = 4\n",
            "\n",
            "Multiplication Table for 5:\n",
            "5 x 1 = 5\n",
            "\n"
          ]
        }
      ]
    },
    {
      "cell_type": "markdown",
      "source": [
        "# Write a program to skip printing even numbers using a while loop."
      ],
      "metadata": {
        "id": "04qrgquryWgY"
      }
    },
    {
      "cell_type": "code",
      "source": [
        "num = 1\n",
        "while num <= 10:\n",
        "  if num % 2 != 0:\n",
        "    print(num)\n",
        "  num += 1"
      ],
      "metadata": {
        "colab": {
          "base_uri": "https://localhost:8080/"
        },
        "id": "UPJRnbvJyeN3",
        "outputId": "3cb10fce-89e3-43b9-ab95-3763528779ec"
      },
      "execution_count": 8,
      "outputs": [
        {
          "output_type": "stream",
          "name": "stdout",
          "text": [
            "1\n",
            "3\n",
            "5\n",
            "7\n",
            "9\n"
          ]
        }
      ]
    }
  ]
}