{
  "nbformat": 4,
  "nbformat_minor": 0,
  "metadata": {
    "colab": {
      "provenance": [],
      "authorship_tag": "ABX9TyPgEDAlZpDnHbJuKdEG9w0I",
      "include_colab_link": true
    },
    "kernelspec": {
      "name": "python3",
      "display_name": "Python 3"
    },
    "language_info": {
      "name": "python"
    }
  },
  "cells": [
    {
      "cell_type": "markdown",
      "metadata": {
        "id": "view-in-github",
        "colab_type": "text"
      },
      "source": [
        "<a href=\"https://colab.research.google.com/github/dhruvvv-kush/pw_assignment/blob/main/Data_Structures.ipynb\" target=\"_parent\"><img src=\"https://colab.research.google.com/assets/colab-badge.svg\" alt=\"Open In Colab\"/></a>"
      ]
    },
    {
      "cell_type": "markdown",
      "source": [
        "NAME= DHRUV KUSHWAHA\n",
        "ASSIGNMENT NAME = Data-Structures\n",
        "GMAIL= dhruvkushwaha90gmail.com\n",
        "course = DATA SCIENCE WITH GENERATIVE AI"
      ],
      "metadata": {
        "id": "Fsvp6kHYLdO6"
      }
    },
    {
      "cell_type": "markdown",
      "source": [
        "#Q1\n",
        "\n",
        "\n",
        "Reasons to use a queue from python module instead of implementing it using a list.\n",
        "\n",
        "01. Python module based queue is much more efficient in implementing insertion and deletion.\n",
        "02. Python list is based upon array which makes some of the operations to be Big O of n.\n",
        "03. Python list do not strictly restrict us to perform any additional operations on the queue.\n",
        "\n",
        "#Q2\n",
        "\n",
        "01. Parenthesis matching.\n",
        "02. Implementation of plates.\n",
        "03. Implementation of memory stack.\n",
        "04. Stack of books.\n",
        "\n",
        "\n",
        "#Q3\n",
        "\n",
        "01. Distinct Values:\n",
        "\n",
        "* Sets ensure that each element is unique. They automatically handle duplicates by only storing one instance of each value.\n",
        "* This property is useful when you need to work with collections of unique elements, such as unique IDs, distinct words in a text, or unique items in a shopping cart.\n",
        "\n",
        "02. Efficient Membership Testing:\n",
        "\n",
        "* Sets offer constant-time average complexity for membership testing (checking if an element is present in the set), which makes them efficient for filtering out duplicates or determining whether an element exists in a collection.\n",
        "\n",
        "03. Graph Traversal:\n",
        "\n",
        "* Sets are commonly used during graph traversal algorithms like depth-first search (DFS) and breadth-first search (BFS) to keep track of visited nodes. Using sets ensures that each node is visited only once, preventing infinite loops in cyclic graphs.\n",
        "\n",
        "04. Set Operations:\n",
        "\n",
        "* Sets support various set operations such as union, intersection, difference, and symmetric difference. These operations can be useful in tasks like data analysis, where you need to combine or compare multiple sets of data.\n",
        "\n",
        "05. Removing Duplicates:\n",
        "\n",
        "* Sets are an effective way to remove duplicate elements from a collection. By converting a list or another iterable to a set, you automatically eliminate duplicates, leaving only unique elements behind.\n",
        "\n",
        "06. Filtering Unique Requests:\n",
        "\n",
        "* In scenarios like job applications or online forms, sets can be used to ensure that only unique requests or submissions are processed. This helps prevent duplicate entries or submissions.\n",
        "\n",
        "\n",
        "\n",
        "\n",
        "#Q4\n",
        "\n",
        "\n",
        "1. Homogeneity:\n",
        "\n",
        "* Array: Requires all elements to be of the same type. This ensures memory efficiency and faster access times.\n",
        "* List: Can store elements of different types, which introduces overhead and less efficient memory usage.\n",
        "\n",
        "2. Memory Usage:\n",
        "\n",
        "* Array: More memory efficient because it stores elements in a contiguous block of memory and directly represents numerical data.\n",
        "* List: Less memory efficient due to additional overhead for storing pointers to objects and type information.\n",
        "\n",
        "3. Performance:\n",
        "\n",
        "* Array: Typically faster for numerical operations due to contiguous memory storage and lack of type checking overhead.\n",
        "* List: Slower for numerical operations because of the need to manage heterogeneous elements and indirect references.\n",
        "\n",
        "4. Operations and Methods:\n",
        "\n",
        "* Array: Provides basic operations for numerical data (e.g., append, extend, pop) but lacks the extensive functionality of lists.\n",
        "* List: Offers a wide range of methods for general-purpose use, which can be useful for more complex data manipulation.\n",
        "\n",
        "5. Fixed vs. Dynamic Size:\n",
        "\n",
        "* Array: Has a more fixed nature once created, although it can grow dynamically, this is less flexible compared to lists.\n",
        "* List: Highly dynamic in terms of size and flexibility, allowing easy insertion and removal of elements.\n",
        "\n",
        "\n",
        "#Q5\n",
        "\n",
        "\n",
        "1. Structure:\n",
        "\n",
        "* List: Ordered collection of items where each item has an index (position) associated with it. Lists maintain the order of elements based on their insertion.\n",
        "* Dictionary: Unordered collection of key-value pairs. Instead of indexing by position, dictionaries are indexed by keys, which are unique and immutable.\n",
        "\n",
        "2. Access Method:\n",
        "\n",
        "* List: Accessed by position using integer indices. Items are retrieved based on their position in the list.\n",
        "* Dictionary: Accessed by keys. Items are retrieved based on the keys associated with them.\n",
        "\n",
        "3. Mutability:\n",
        "\n",
        "* List: Mutable, meaning you can change, add, or remove elements after the list is created.\n",
        "* Dictionary: Also mutable, allowing you to modify, add, or delete key-value pairs.\n",
        "\n",
        "4. Order:\n",
        "\n",
        "* List: Maintains the order of elements based on their insertion. Indexing is positional.\n",
        "* Dictionary: Does not maintain any order of key-value pairs. Keys are used for accessing values, and they are unordered.\n",
        "\n",
        "5. Use Cases:\n",
        "\n",
        "* List: Suitable for storing collections of items where the order matters, or when you need to access elements by their position.\n",
        "* Dictionary: Ideal for scenarios where you need to associate unique keys with corresponding values, such as mapping names to ages, IDs to objects, etc. Dictionaries are efficient for fast lookups based on keys.\n",
        "\n",
        "6. Underlying Implementation:\n",
        "\n",
        "* List: Typically implemented as an array that stores references to objects in memory.\n",
        "* Dictionary: Implemented using a hash table data structure, which provides fast lookup based on keys.\n"
      ],
      "metadata": {
        "id": "f-JT4E7wIRQQ"
      }
    }
  ]
}