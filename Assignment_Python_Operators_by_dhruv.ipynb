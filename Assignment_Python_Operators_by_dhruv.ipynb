{
  "nbformat": 4,
  "nbformat_minor": 0,
  "metadata": {
    "colab": {
      "provenance": [],
      "authorship_tag": "ABX9TyNTfHNSZCZqXvACNh6n7RWS",
      "include_colab_link": true
    },
    "kernelspec": {
      "name": "python3",
      "display_name": "Python 3"
    },
    "language_info": {
      "name": "python"
    }
  },
  "cells": [
    {
      "cell_type": "markdown",
      "metadata": {
        "id": "view-in-github",
        "colab_type": "text"
      },
      "source": [
        "<a href=\"https://colab.research.google.com/github/dhruvvv-kush/pw_assignment/blob/main/Assignment_Python_Operators_by_dhruv.ipynb\" target=\"_parent\"><img src=\"https://colab.research.google.com/assets/colab-badge.svg\" alt=\"Open In Colab\"/></a>"
      ]
    },
    {
      "cell_type": "markdown",
      "source": [
        " NAME-Dhruv Kushwaha\n",
        " REGEMAIL- dhruvkushwaha90@gmail.com\n",
        " COURSENAME-DATA SCIENCE WITH GENERATIVE AI\n",
        " ASSIGNMENT NAME- python operators\n",
        " SUBMISSION DATE-29 NOV 2024\n",
        " GIT LINK- https://github.com/dhruvvv-kush/pw_assignment/blob/main/pw_assignment1.ipynb  "
      ],
      "metadata": {
        "id": "De0iKYCEM5K4"
      }
    },
    {
      "cell_type": "code",
      "source": [
        "#Calculate the sum, difference, product, and quotient of two numbers.\n",
        "a=int(input(\"enter first number \"))\n",
        "b=int(input(\"enter second number \"))\n",
        "sum=a+b\n",
        "diff=a-b\n",
        "product=a*b\n",
        "quotient=a/b\n",
        "print(\"sum=\",sum)\n",
        "print(\"difference=\",diff)\n",
        "print(\"product=\",product)\n",
        "print(\"quotient=\",quotient)"
      ],
      "metadata": {
        "colab": {
          "base_uri": "https://localhost:8080/"
        },
        "id": "2LLoklFXM9Cm",
        "outputId": "28937cf5-b87a-4363-fce3-87b5acf22619"
      },
      "execution_count": 1,
      "outputs": [
        {
          "output_type": "stream",
          "name": "stdout",
          "text": [
            "enter first number 2\n",
            "enter second number 3\n",
            "sum= 5\n",
            "difference= -1\n",
            "product= 6\n",
            "quotient= 0.6666666666666666\n"
          ]
        }
      ]
    },
    {
      "cell_type": "code",
      "source": [
        "#Perform various assignment operations on a variable.\n",
        "a = int(input(\"Enter a number: \"))\n",
        "\n",
        "# Addition assignment\n",
        "a += 5  # Equivalent to a = a + 5\n",
        "print(\"a += 5:\", a)\n",
        "\n",
        "# Subtraction assignment\n",
        "a -= 3  # Equivalent to a = a - 3\n",
        "print(\"a -= 3:\", a)\n",
        "\n",
        "# Multiplication assignment\n",
        "a *= 2  # Equivalent to a = a * 2\n",
        "print(\"a *= 2:\", a)\n",
        "\n",
        "# Division assignment\n",
        "a /= 4  # Equivalent to a = a / 4\n",
        "print(\"a /= 4:\", a)\n",
        "\n",
        "# Modulus assignment\n",
        "a %= 3  # Equivalent to a = a % 3\n",
        "print(\"a %= 3:\", a)\n",
        "\n",
        "# Exponentiation assignment\n",
        "a **= 2  # Equivalent to a = a ** 2\n",
        "print(\"a **= 2:\", a)\n",
        "\n",
        "# Floor division assignment\n",
        "a //= 2  # Equivalent to a = a // 2\n",
        "print(\"a //= 2:\", a)\n"
      ],
      "metadata": {
        "colab": {
          "base_uri": "https://localhost:8080/"
        },
        "id": "CfSZnBiGNrTO",
        "outputId": "a66739b9-232f-4d4e-90a5-0cba1dda1652"
      },
      "execution_count": 2,
      "outputs": [
        {
          "output_type": "stream",
          "name": "stdout",
          "text": [
            "Enter a number: 2\n",
            "a += 5: 7\n",
            "a -= 3: 4\n",
            "a *= 2: 8\n",
            "a /= 4: 2.0\n",
            "a %= 3: 2.0\n",
            "a **= 2: 4.0\n",
            "a //= 2: 2.0\n"
          ]
        }
      ]
    },
    {
      "cell_type": "code",
      "source": [
        "#Compare two numbers and print the results.\n",
        "a=int(input(\"enter first number \"))\n",
        "b=int(input(\"enter second number \"))\n",
        "print(a==b)\n",
        "print(a!=b)\n",
        "print(a>b)\n",
        "print(a<b)\n",
        "print(a>=b)\n",
        "print(a<=b)"
      ],
      "metadata": {
        "colab": {
          "base_uri": "https://localhost:8080/"
        },
        "id": "kwQW2RbZOPf3",
        "outputId": "de2c50b7-197e-4cac-c0f5-d3a120cd23ca"
      },
      "execution_count": 3,
      "outputs": [
        {
          "output_type": "stream",
          "name": "stdout",
          "text": [
            "enter first number 1\n",
            "enter second number 2\n",
            "False\n",
            "True\n",
            "False\n",
            "True\n",
            "False\n",
            "True\n"
          ]
        }
      ]
    },
    {
      "cell_type": "code",
      "source": [
        "#Check conditions using logical operators.\n",
        "a=int(input(\"enter first number \"))\n",
        "b=int(input(\"enter second number \"))\n",
        "print(a>b and a<b)\n",
        "print(a>b or a<b)\n",
        "print(not(a>b and a<b))"
      ],
      "metadata": {
        "colab": {
          "base_uri": "https://localhost:8080/"
        },
        "id": "o4bOMTtcOe3H",
        "outputId": "eb3c605a-21de-47b7-9a90-392a78d6fb29"
      },
      "execution_count": 4,
      "outputs": [
        {
          "output_type": "stream",
          "name": "stdout",
          "text": [
            "enter first number 1\n",
            "enter second number 2\n",
            "False\n",
            "True\n",
            "True\n"
          ]
        }
      ]
    },
    {
      "cell_type": "code",
      "source": [
        "#Check the identity of variables.\n",
        "a=int(input(\"enter first number \"))\n",
        "b=int(input(\"enter second number \"))\n",
        "print(a is b)\n",
        "print(a is not b)"
      ],
      "metadata": {
        "colab": {
          "base_uri": "https://localhost:8080/"
        },
        "id": "cKUvz43UOtoR",
        "outputId": "1d258bbc-71bd-42ff-9463-8dff6add1a84"
      },
      "execution_count": 5,
      "outputs": [
        {
          "output_type": "stream",
          "name": "stdout",
          "text": [
            "enter first number 1\n",
            "enter second number 3\n",
            "False\n",
            "True\n"
          ]
        }
      ]
    },
    {
      "cell_type": "code",
      "source": [
        "#Perform bitwise operations on any two integers.\n",
        "a = 5  # 0b0101 in binary\n",
        "b = 2  # 0b0010 in binary\n",
        "\n",
        "# Bitwise AND\n",
        "result_and = a & b\n",
        "print(\"Bitwise AND:\", result_and)\n",
        "\n",
        "# Bitwise OR\n",
        "result_or = a | b\n",
        "print(\"Bitwise OR:\", result_or)\n",
        "\n",
        "# Bitwise XOR\n",
        "result_xor = a ^ b\n",
        "print(\"Bitwise XOR:\", result_xor)\n",
        "\n",
        "# Bitwise NOT (on a)\n",
        "result_not_a = ~a\n",
        "print(\"Bitwise NOT (a):\", result_not_a)\n",
        "\n",
        "# Bitwise left shift (a shifted 2 bits to the left)\n",
        "result_left_shift = a << 2\n",
        "print(\"Bitwise left shift (a << 2):\", result_left_shift)\n",
        "\n",
        "# Bitwise right shift (a shifted 2 bits to the right)\n",
        "result_right_shift = a >> 2\n",
        "print(\"Bitwise right shift (a >> 2):\", result_right_shift)"
      ],
      "metadata": {
        "colab": {
          "base_uri": "https://localhost:8080/"
        },
        "id": "58wdmlYaO7jh",
        "outputId": "576d0e0f-7618-4356-8233-e07cc2650dc7"
      },
      "execution_count": 6,
      "outputs": [
        {
          "output_type": "stream",
          "name": "stdout",
          "text": [
            "Bitwise AND: 0\n",
            "Bitwise OR: 7\n",
            "Bitwise XOR: 7\n",
            "Bitwise NOT (a): -6\n",
            "Bitwise left shift (a << 2): 20\n",
            "Bitwise right shift (a >> 2): 1\n"
          ]
        }
      ]
    },
    {
      "cell_type": "code",
      "source": [
        "# Use unary operators to change the sign of a number.\n",
        "a=int(input(\"enter a number \"))\n",
        "print(-a)"
      ],
      "metadata": {
        "colab": {
          "base_uri": "https://localhost:8080/"
        },
        "id": "bKI8lNCfPp5N",
        "outputId": "06a71a01-e35d-433a-b479-5c560a9d451c"
      },
      "execution_count": 7,
      "outputs": [
        {
          "output_type": "stream",
          "name": "stdout",
          "text": [
            "enter a number 5\n",
            "-5\n"
          ]
        }
      ]
    },
    {
      "cell_type": "code",
      "source": [
        "# Use the ternary operator to assign values based on conditions.\n",
        "a=int(input(\"enter first number \"))\n",
        "b=int(input(\"enter second number \"))\n",
        "print(a if a>b else b)"
      ],
      "metadata": {
        "colab": {
          "base_uri": "https://localhost:8080/"
        },
        "id": "u2KEnPOtPy86",
        "outputId": "46e572cf-16b7-4320-9928-e6c9f9b7e636"
      },
      "execution_count": 8,
      "outputs": [
        {
          "output_type": "stream",
          "name": "stdout",
          "text": [
            "enter first number 7\n",
            "enter second number 2\n",
            "7\n"
          ]
        }
      ]
    }
  ]
}