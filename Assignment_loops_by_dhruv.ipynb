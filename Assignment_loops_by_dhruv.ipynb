{
  "nbformat": 4,
  "nbformat_minor": 0,
  "metadata": {
    "colab": {
      "provenance": [],
      "authorship_tag": "ABX9TyOs5n9x5ZcgT2NKnRLmTDYc",
      "include_colab_link": true
    },
    "kernelspec": {
      "name": "python3",
      "display_name": "Python 3"
    },
    "language_info": {
      "name": "python"
    }
  },
  "cells": [
    {
      "cell_type": "markdown",
      "metadata": {
        "id": "view-in-github",
        "colab_type": "text"
      },
      "source": [
        "<a href=\"https://colab.research.google.com/github/dhruvvv-kush/pw_assignment/blob/main/Assignment_loops_by_dhruv.ipynb\" target=\"_parent\"><img src=\"https://colab.research.google.com/assets/colab-badge.svg\" alt=\"Open In Colab\"/></a>"
      ]
    },
    {
      "cell_type": "markdown",
      "source": [
        "NAME-Dhruv Kushwaha\n",
        "\n",
        "REGEMAIL- dhruvkushwaha90@gmail.com\n",
        "\n",
        "COURSENAME-DATA SCIENCE WITH GENERATIVE AI\n",
        "\n",
        "ASSIGNMENT NAME- loops\n",
        "\n",
        "SUBMISSION DATE-29 NOV 2024\n",
        "\n",
        "GIT LINK- https://github.com/dhruvvv-kush/pw_assignment/blob/main/pw_assignment1.ipynb"
      ],
      "metadata": {
        "id": "BVs89SeCWUqx"
      }
    },
    {
      "cell_type": "markdown",
      "source": [
        "# Print numbers from 1 to 5 using a while loop."
      ],
      "metadata": {
        "id": "gfIXMKLPRL3w"
      }
    },
    {
      "cell_type": "code",
      "source": [
        "a=1\n",
        "while(a<=5):\n",
        "  print(a)\n",
        "  a+=1"
      ],
      "metadata": {
        "colab": {
          "base_uri": "https://localhost:8080/"
        },
        "id": "6YZprEiVRQaw",
        "outputId": "c97ed215-8931-4501-9f7f-53231ecf530b"
      },
      "execution_count": 4,
      "outputs": [
        {
          "output_type": "stream",
          "name": "stdout",
          "text": [
            "1\n",
            "2\n",
            "3\n",
            "4\n",
            "5\n"
          ]
        }
      ]
    },
    {
      "cell_type": "markdown",
      "source": [
        "# Calculate the sum of numbers from 1 to 10 using a while loop."
      ],
      "metadata": {
        "id": "_VnhOelRSH3_"
      }
    },
    {
      "cell_type": "code",
      "source": [
        "a=1\n",
        "sum=0\n",
        "while(a<=10):\n",
        "  sum+=a\n",
        "  a+=1\n",
        "print(sum)"
      ],
      "metadata": {
        "colab": {
          "base_uri": "https://localhost:8080/"
        },
        "id": "lAG87__cSJbF",
        "outputId": "47b72604-3007-4ba2-ecfb-b88f1e8cf5c1"
      },
      "execution_count": 5,
      "outputs": [
        {
          "output_type": "stream",
          "name": "stdout",
          "text": [
            "55\n"
          ]
        }
      ]
    },
    {
      "cell_type": "markdown",
      "source": [
        "# Calculate the factorial of a number using a for loop."
      ],
      "metadata": {
        "id": "1-V2XmLRSubK"
      }
    },
    {
      "cell_type": "code",
      "source": [
        "a=int(input(\"enter number :\"))\n",
        "fact=1\n",
        "for i in range(1,a+1):\n",
        "  fact*=i\n",
        "print(fact)"
      ],
      "metadata": {
        "colab": {
          "base_uri": "https://localhost:8080/"
        },
        "id": "sflaIT74Swrj",
        "outputId": "9122c016-fe69-405a-d2d8-ba4779e8dd67"
      },
      "execution_count": 7,
      "outputs": [
        {
          "output_type": "stream",
          "name": "stdout",
          "text": [
            "enter number :5\n",
            "120\n"
          ]
        }
      ]
    },
    {
      "cell_type": "markdown",
      "source": [
        "# Count the number of vowels in a string using a for loop."
      ],
      "metadata": {
        "id": "k5WEtFXUTJVi"
      }
    },
    {
      "cell_type": "code",
      "source": [
        "a=str(input(\"enter any word :\"))\n",
        "count=0\n",
        "for i in a:\n",
        "  if(i=='a' or i=='e' or i=='i' or i=='o' or i=='u'):\n",
        "    count+=1\n",
        "print(count)"
      ],
      "metadata": {
        "colab": {
          "base_uri": "https://localhost:8080/"
        },
        "id": "epItjbWiTWzK",
        "outputId": "6443faf7-7674-47bf-dc2f-ddf2d71ce219"
      },
      "execution_count": 11,
      "outputs": [
        {
          "output_type": "stream",
          "name": "stdout",
          "text": [
            "enter any word :aeiou\n",
            "5\n"
          ]
        }
      ]
    },
    {
      "cell_type": "markdown",
      "source": [
        "# Print a pattern using nested loops."
      ],
      "metadata": {
        "id": "qIc7TxtmUBwU"
      }
    },
    {
      "cell_type": "code",
      "source": [
        "a=5\n",
        "for i in range(1,a+1):\n",
        "  for j in range(1,i+1):\n",
        "    print(j,end=\" \")\n",
        "  print()"
      ],
      "metadata": {
        "colab": {
          "base_uri": "https://localhost:8080/"
        },
        "id": "WSV89BbxUF1K",
        "outputId": "17518bbc-3c45-4673-fc3e-13477b0d7c2d"
      },
      "execution_count": 23,
      "outputs": [
        {
          "output_type": "stream",
          "name": "stdout",
          "text": [
            "1 \n",
            "1 2 \n",
            "1 2 3 \n",
            "1 2 3 4 \n",
            "1 2 3 4 5 \n"
          ]
        }
      ]
    },
    {
      "cell_type": "markdown",
      "source": [
        "# Generate a multiplication table using nested loops."
      ],
      "metadata": {
        "id": "bipHkVpWVZVm"
      }
    },
    {
      "cell_type": "code",
      "source": [
        "a = int(input(  \"Enter a number: \"))\n",
        "for i in range (1,11):\n",
        "  print(a ,\"*\",i,\"=\",i*a)"
      ],
      "metadata": {
        "colab": {
          "base_uri": "https://localhost:8080/"
        },
        "id": "J4vCtDOsVdaB",
        "outputId": "2ed2c945-8d1d-4e5c-d038-b44ee80bbaab"
      },
      "execution_count": 24,
      "outputs": [
        {
          "output_type": "stream",
          "name": "stdout",
          "text": [
            "Enter a number: 5\n",
            "5 * 1 = 5\n",
            "5 * 2 = 10\n",
            "5 * 3 = 15\n",
            "5 * 4 = 20\n",
            "5 * 5 = 25\n",
            "5 * 6 = 30\n",
            "5 * 7 = 35\n",
            "5 * 8 = 40\n",
            "5 * 9 = 45\n",
            "5 * 10 = 50\n"
          ]
        }
      ]
    }
  ]
}